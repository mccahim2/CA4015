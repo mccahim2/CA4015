{
 "cells": [
  {
   "cell_type": "markdown",
   "metadata": {},
   "source": [
    "# Data Exploration"
   ]
  },
  {
   "cell_type": "markdown",
   "metadata": {},
   "source": [
    "The first step of the data exploration phase is to import any necessary packages"
   ]
  },
  {
   "cell_type": "code",
   "execution_count": 1,
   "metadata": {},
   "outputs": [],
   "source": [
    "import pandas as pd\n",
    "import numpy as np"
   ]
  },
  {
   "cell_type": "markdown",
   "metadata": {},
   "source": [
    "For the purpose of this assignment their are several different data sets to be read in and explored.<br />\n",
    "There are 12 data sets to read in.\n",
    "They are as follows:\n",
    "* **Wins:** These data sets show how much money participants win during each part of the trial\n",
    "* **Losses:** These data sets show how much money participants lose during each part of the trial\n",
    "* **Choice:** These data sets indicate what deck participants chose during each part of the trial\n",
    "* **Index:** These data sets contain the name of the first author of the study that reports the data of the corresponding participant."
   ]
  },
  {
   "cell_type": "markdown",
   "metadata": {},
   "source": [
    "### Importing data sets"
   ]
  },
  {
   "cell_type": "code",
   "execution_count": 2,
   "metadata": {},
   "outputs": [],
   "source": [
    "win_95 = pd.read_csv('data/wi_95.csv')\n",
    "win_100 = pd.read_csv('data/wi_100.csv')\n",
    "win_150 = pd.read_csv('data/wi_150.csv')"
   ]
  },
  {
   "cell_type": "code",
   "execution_count": 3,
   "metadata": {},
   "outputs": [],
   "source": [
    "loss_95 = pd.read_csv('data/lo_95.csv')\n",
    "loss_100 = pd.read_csv('data/lo_100.csv')\n",
    "loss_150 = pd.read_csv('data/lo_150.csv')"
   ]
  },
  {
   "cell_type": "code",
   "execution_count": 4,
   "metadata": {},
   "outputs": [],
   "source": [
    "choice_95 = pd.read_csv('data/choice_95.csv')\n",
    "choice_100 = pd.read_csv('data/choice_100.csv')\n",
    "choice_150 = pd.read_csv('data/choice_150.csv')"
   ]
  },
  {
   "cell_type": "code",
   "execution_count": 5,
   "metadata": {},
   "outputs": [],
   "source": [
    "index_95 = pd.read_csv('data/index_95.csv')\n",
    "index_100 = pd.read_csv('data/index_100.csv')\n",
    "index_150 = pd.read_csv('data/index_150.csv')"
   ]
  },
  {
   "cell_type": "markdown",
   "metadata": {},
   "source": [
    "The next process is to clean the above data"
   ]
  },
  {
   "cell_type": "markdown",
   "metadata": {},
   "source": [
    "Data cleaning is a very important part of the data exploration process as it will identify and remove errors for machine learning processes in the future"
   ]
  },
  {
   "cell_type": "markdown",
   "metadata": {},
   "source": [
    "### Data Cleaning"
   ]
  },
  {
   "cell_type": "markdown",
   "metadata": {},
   "source": [
    "My first data cleaning step is to check for null values in the data sets"
   ]
  },
  {
   "cell_type": "code",
   "execution_count": 6,
   "metadata": {},
   "outputs": [
    {
     "data": {
      "text/plain": [
       "0"
      ]
     },
     "execution_count": 6,
     "metadata": {},
     "output_type": "execute_result"
    }
   ],
   "source": [
    "win_95.isna().sum().sum() + win_100.isna().sum().sum() + win_150.isna().sum().sum()"
   ]
  },
  {
   "cell_type": "markdown",
   "metadata": {},
   "source": [
    "There are no null values in the wins data sets\n"
   ]
  },
  {
   "cell_type": "code",
   "execution_count": 7,
   "metadata": {},
   "outputs": [
    {
     "data": {
      "text/plain": [
       "0"
      ]
     },
     "execution_count": 7,
     "metadata": {},
     "output_type": "execute_result"
    }
   ],
   "source": [
    "loss_95.isna().sum().sum() + loss_100.isna().sum().sum() + loss_150.isna().sum().sum()"
   ]
  },
  {
   "cell_type": "markdown",
   "metadata": {},
   "source": [
    "There are no null values in the losses data sets"
   ]
  },
  {
   "cell_type": "code",
   "execution_count": 8,
   "metadata": {},
   "outputs": [
    {
     "data": {
      "text/plain": [
       "0"
      ]
     },
     "execution_count": 8,
     "metadata": {},
     "output_type": "execute_result"
    }
   ],
   "source": [
    "choice_95.isna().sum().sum() + choice_100.isna().sum().sum() + choice_150.isna().sum().sum()"
   ]
  },
  {
   "cell_type": "markdown",
   "metadata": {},
   "source": [
    "There are no null values in the choices data sets\n"
   ]
  },
  {
   "cell_type": "code",
   "execution_count": 9,
   "metadata": {},
   "outputs": [
    {
     "data": {
      "text/plain": [
       "0"
      ]
     },
     "execution_count": 9,
     "metadata": {},
     "output_type": "execute_result"
    }
   ],
   "source": [
    "index_95.isna().sum().sum() + index_100.isna().sum().sum() + index_150.isna().sum().sum()"
   ]
  },
  {
   "cell_type": "markdown",
   "metadata": {},
   "source": [
    "There are no null values in the choices data sets"
   ]
  },
  {
   "cell_type": "markdown",
   "metadata": {},
   "source": [
    "Due to the large number of data sets, it might make it simpler to join tables based on the number of trials"
   ]
  },
  {
   "cell_type": "markdown",
   "metadata": {},
   "source": [
    ":::{note}\n",
    "Below I am making a new column for each number of trials. The new column shows to total won or lost per person.\n",
    ":::"
   ]
  },
  {
   "cell_type": "code",
   "execution_count": 55,
   "metadata": {},
   "outputs": [],
   "source": [
    "total_win_95 = win_95.sum(axis=1)\n",
    "total_loss_95 = loss_95.sum(axis=1)\n",
    "total_95 = total_win_95 + total_loss_95\n",
    "\n",
    "total_win_100 = win_100.sum(axis=1)\n",
    "total_loss_100 = loss_100.sum(axis=1)\n",
    "total_100 = total_win_100 + total_loss_100\n",
    "\n",
    "total_win_150 = win_150.sum(axis=1)\n",
    "total_loss_150 = loss_150.sum(axis=1)\n",
    "total_150 = total_win_150 + total_loss_150"
   ]
  },
  {
   "cell_type": "markdown",
   "metadata": {},
   "source": [
    "Making totals into pandas dataframes for further analysis"
   ]
  },
  {
   "cell_type": "code",
   "execution_count": 64,
   "metadata": {},
   "outputs": [],
   "source": [
    "total_95 = pd.DataFrame(total_95)\n",
    "total_95 = total_95.rename(columns={0: 'Total'})\n",
    "\n",
    "total_100 = pd.DataFrame(total_100)\n",
    "total_100 = total_100.rename(columns={0: 'Total'})\n",
    "\n",
    "total_150 = pd.DataFrame(total_150)\n",
    "total_150 = total_150.rename(columns={0: 'Total'})"
   ]
  },
  {
   "cell_type": "code",
   "execution_count": 81,
   "metadata": {},
   "outputs": [
    {
     "data": {
      "text/html": [
       "<div>\n",
       "<style scoped>\n",
       "    .dataframe tbody tr th:only-of-type {\n",
       "        vertical-align: middle;\n",
       "    }\n",
       "\n",
       "    .dataframe tbody tr th {\n",
       "        vertical-align: top;\n",
       "    }\n",
       "\n",
       "    .dataframe thead th {\n",
       "        text-align: right;\n",
       "    }\n",
       "</style>\n",
       "<table border=\"1\" class=\"dataframe\">\n",
       "  <thead>\n",
       "    <tr style=\"text-align: right;\">\n",
       "      <th></th>\n",
       "      <th>total</th>\n",
       "      <th>Study_Type</th>\n",
       "    </tr>\n",
       "  </thead>\n",
       "  <tbody>\n",
       "    <tr>\n",
       "      <th>Subj_1</th>\n",
       "      <td>1150</td>\n",
       "      <td>Fridberg</td>\n",
       "    </tr>\n",
       "    <tr>\n",
       "      <th>Subj_2</th>\n",
       "      <td>-675</td>\n",
       "      <td>Fridberg</td>\n",
       "    </tr>\n",
       "    <tr>\n",
       "      <th>Subj_3</th>\n",
       "      <td>-750</td>\n",
       "      <td>Fridberg</td>\n",
       "    </tr>\n",
       "    <tr>\n",
       "      <th>Subj_4</th>\n",
       "      <td>-525</td>\n",
       "      <td>Fridberg</td>\n",
       "    </tr>\n",
       "    <tr>\n",
       "      <th>Subj_5</th>\n",
       "      <td>100</td>\n",
       "      <td>Fridberg</td>\n",
       "    </tr>\n",
       "  </tbody>\n",
       "</table>\n",
       "</div>"
      ],
      "text/plain": [
       "        total Study_Type\n",
       "Subj_1   1150   Fridberg\n",
       "Subj_2   -675   Fridberg\n",
       "Subj_3   -750   Fridberg\n",
       "Subj_4   -525   Fridberg\n",
       "Subj_5    100   Fridberg"
      ]
     },
     "execution_count": 81,
     "metadata": {},
     "output_type": "execute_result"
    }
   ],
   "source": [
    "total_95[\"Study_Type\"] = index_95[\"Study\"].values\n",
    "total_100[\"Study_Type\"] = index_95[\"Study\"].values\n",
    "total_150[\"Study_Type\"] = index_150[\"Study\"].values"
   ]
  },
  {
   "cell_type": "code",
   "execution_count": 79,
   "metadata": {},
   "outputs": [
    {
     "data": {
      "text/plain": [
       "dtype('O')"
      ]
     },
     "execution_count": 79,
     "metadata": {},
     "output_type": "execute_result"
    }
   ],
   "source": [
    "index_95[\"Study\"].dtype"
   ]
  },
  {
   "cell_type": "code",
   "execution_count": null,
   "metadata": {},
   "outputs": [],
   "source": []
  },
  {
   "cell_type": "code",
   "execution_count": null,
   "metadata": {},
   "outputs": [],
   "source": []
  },
  {
   "cell_type": "code",
   "execution_count": null,
   "metadata": {},
   "outputs": [],
   "source": []
  },
  {
   "cell_type": "code",
   "execution_count": null,
   "metadata": {},
   "outputs": [],
   "source": []
  },
  {
   "cell_type": "code",
   "execution_count": null,
   "metadata": {},
   "outputs": [],
   "source": []
  },
  {
   "cell_type": "code",
   "execution_count": null,
   "metadata": {},
   "outputs": [],
   "source": []
  },
  {
   "cell_type": "markdown",
   "metadata": {},
   "source": [
    "### Data Analysis/Exploration"
   ]
  },
  {
   "cell_type": "markdown",
   "metadata": {},
   "source": [
    "Join all wins together, add column for what trial they were part of and also add how many partcipants were in that study\n",
    "\n",
    "Join all losses together, add column for what trial they were part of and also add how many partcipants were in that study"
   ]
  },
  {
   "cell_type": "markdown",
   "metadata": {},
   "source": [
    "Analysing the wins and losses for each number of trials"
   ]
  },
  {
   "cell_type": "code",
   "execution_count": 17,
   "metadata": {},
   "outputs": [],
   "source": [
    "agg_choice_95 = choice_95.apply(pd.Series.value_counts, axis=1)\n",
    "\n",
    "agg_choice_100 = choice_100.apply(pd.Series.value_counts, axis=1)\n",
    "\n",
    "agg_choice_150 = choice_150.apply(pd.Series.value_counts, axis=1)"
   ]
  },
  {
   "cell_type": "code",
   "execution_count": 21,
   "metadata": {},
   "outputs": [
    {
     "data": {
      "text/html": [
       "<div>\n",
       "<style scoped>\n",
       "    .dataframe tbody tr th:only-of-type {\n",
       "        vertical-align: middle;\n",
       "    }\n",
       "\n",
       "    .dataframe tbody tr th {\n",
       "        vertical-align: top;\n",
       "    }\n",
       "\n",
       "    .dataframe thead th {\n",
       "        text-align: right;\n",
       "    }\n",
       "</style>\n",
       "<table border=\"1\" class=\"dataframe\">\n",
       "  <thead>\n",
       "    <tr style=\"text-align: right;\">\n",
       "      <th></th>\n",
       "      <th>1</th>\n",
       "      <th>2</th>\n",
       "      <th>3</th>\n",
       "      <th>4</th>\n",
       "    </tr>\n",
       "  </thead>\n",
       "  <tbody>\n",
       "    <tr>\n",
       "      <th>Subj_1</th>\n",
       "      <td>21</td>\n",
       "      <td>42</td>\n",
       "      <td>15</td>\n",
       "      <td>22</td>\n",
       "    </tr>\n",
       "    <tr>\n",
       "      <th>Subj_2</th>\n",
       "      <td>14</td>\n",
       "      <td>35</td>\n",
       "      <td>18</td>\n",
       "      <td>33</td>\n",
       "    </tr>\n",
       "    <tr>\n",
       "      <th>Subj_3</th>\n",
       "      <td>21</td>\n",
       "      <td>42</td>\n",
       "      <td>7</td>\n",
       "      <td>30</td>\n",
       "    </tr>\n",
       "    <tr>\n",
       "      <th>Subj_4</th>\n",
       "      <td>13</td>\n",
       "      <td>24</td>\n",
       "      <td>28</td>\n",
       "      <td>35</td>\n",
       "    </tr>\n",
       "    <tr>\n",
       "      <th>Subj_5</th>\n",
       "      <td>15</td>\n",
       "      <td>31</td>\n",
       "      <td>28</td>\n",
       "      <td>26</td>\n",
       "    </tr>\n",
       "    <tr>\n",
       "      <th>...</th>\n",
       "      <td>...</td>\n",
       "      <td>...</td>\n",
       "      <td>...</td>\n",
       "      <td>...</td>\n",
       "    </tr>\n",
       "    <tr>\n",
       "      <th>Subj_500</th>\n",
       "      <td>17</td>\n",
       "      <td>29</td>\n",
       "      <td>28</td>\n",
       "      <td>26</td>\n",
       "    </tr>\n",
       "    <tr>\n",
       "      <th>Subj_501</th>\n",
       "      <td>14</td>\n",
       "      <td>15</td>\n",
       "      <td>44</td>\n",
       "      <td>27</td>\n",
       "    </tr>\n",
       "    <tr>\n",
       "      <th>Subj_502</th>\n",
       "      <td>27</td>\n",
       "      <td>32</td>\n",
       "      <td>17</td>\n",
       "      <td>24</td>\n",
       "    </tr>\n",
       "    <tr>\n",
       "      <th>Subj_503</th>\n",
       "      <td>27</td>\n",
       "      <td>25</td>\n",
       "      <td>23</td>\n",
       "      <td>25</td>\n",
       "    </tr>\n",
       "    <tr>\n",
       "      <th>Subj_504</th>\n",
       "      <td>10</td>\n",
       "      <td>24</td>\n",
       "      <td>12</td>\n",
       "      <td>54</td>\n",
       "    </tr>\n",
       "  </tbody>\n",
       "</table>\n",
       "<p>504 rows × 4 columns</p>\n",
       "</div>"
      ],
      "text/plain": [
       "           1   2   3   4\n",
       "Subj_1    21  42  15  22\n",
       "Subj_2    14  35  18  33\n",
       "Subj_3    21  42   7  30\n",
       "Subj_4    13  24  28  35\n",
       "Subj_5    15  31  28  26\n",
       "...       ..  ..  ..  ..\n",
       "Subj_500  17  29  28  26\n",
       "Subj_501  14  15  44  27\n",
       "Subj_502  27  32  17  24\n",
       "Subj_503  27  25  23  25\n",
       "Subj_504  10  24  12  54\n",
       "\n",
       "[504 rows x 4 columns]"
      ]
     },
     "execution_count": 21,
     "metadata": {},
     "output_type": "execute_result"
    }
   ],
   "source": [
    "agg_choice_100"
   ]
  },
  {
   "cell_type": "code",
   "execution_count": null,
   "metadata": {},
   "outputs": [],
   "source": []
  },
  {
   "cell_type": "code",
   "execution_count": null,
   "metadata": {},
   "outputs": [],
   "source": []
  },
  {
   "cell_type": "code",
   "execution_count": null,
   "metadata": {},
   "outputs": [],
   "source": []
  },
  {
   "cell_type": "code",
   "execution_count": null,
   "metadata": {},
   "outputs": [],
   "source": []
  },
  {
   "cell_type": "code",
   "execution_count": null,
   "metadata": {},
   "outputs": [],
   "source": []
  },
  {
   "cell_type": "markdown",
   "metadata": {},
   "source": [
    "Join all wins together, add column for what trial they were part of and also add how many partcipants were in that study\n",
    "\n",
    "Join all losses together, add column for what trial they were part of and also add how many partcipants were in that study"
   ]
  }
 ],
 "metadata": {
  "kernelspec": {
   "display_name": "Python 3",
   "language": "python",
   "name": "python3"
  },
  "language_info": {
   "codemirror_mode": {
    "name": "ipython",
    "version": 3
   },
   "file_extension": ".py",
   "mimetype": "text/x-python",
   "name": "python",
   "nbconvert_exporter": "python",
   "pygments_lexer": "ipython3",
   "version": "3.7.9"
  },
  "widgets": {
   "application/vnd.jupyter.widget-state+json": {
    "state": {},
    "version_major": 2,
    "version_minor": 0
   }
  }
 },
 "nbformat": 4,
 "nbformat_minor": 4
}
